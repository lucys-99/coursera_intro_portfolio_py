{
 "cells": [
  {
   "cell_type": "code",
   "execution_count": 2,
   "metadata": {},
   "outputs": [],
   "source": [
    "import numpy as np\n",
    "import pandas as pd\n",
    "import edhec_risk_kit_127 as erk\n",
    "%matplotlib inline\n",
    "%load_ext autoreload\n",
    "%autoreload 2\n"
   ]
  },
  {
   "cell_type": "code",
   "execution_count": 3,
   "metadata": {},
   "outputs": [
    {
     "data": {
      "text/plain": [
       "0    1000.0\n",
       "dtype: float64"
      ]
     },
     "execution_count": 3,
     "metadata": {},
     "output_type": "execute_result"
    }
   ],
   "source": [
    "erk.bond_price(15,1000,.05,2,.05)"
   ]
  },
  {
   "cell_type": "code",
   "execution_count": 4,
   "metadata": {},
   "outputs": [
    {
     "data": {
      "text/plain": [
       "0    1043.99829\n",
       "dtype: float64"
      ]
     },
     "execution_count": 4,
     "metadata": {},
     "output_type": "execute_result"
    }
   ],
   "source": [
    "erk.bond_price(5,1000,.06,4,.05)"
   ]
  },
  {
   "cell_type": "code",
   "execution_count": 5,
   "metadata": {},
   "outputs": [
    {
     "data": {
      "text/plain": [
       "0    613.913254\n",
       "dtype: float64"
      ]
     },
     "execution_count": 5,
     "metadata": {},
     "output_type": "execute_result"
    }
   ],
   "source": [
    "erk.bond_price(10,1000,0,1,.05)"
   ]
  },
  {
   "cell_type": "code",
   "execution_count": 6,
   "metadata": {},
   "outputs": [
    {
     "data": {
      "text/plain": [
       "4.373363222636413"
      ]
     },
     "execution_count": 6,
     "metadata": {},
     "output_type": "execute_result"
    }
   ],
   "source": [
    "# macaulay_duration(flows, discount_rate)\n",
    "erk.macaulay_duration(erk.bond_cash_flows(5, 1000, .06, 4), 0.05/4)/4"
   ]
  },
  {
   "cell_type": "code",
   "execution_count": 7,
   "metadata": {},
   "outputs": [
    {
     "data": {
      "text/plain": [
       "10.72677495379012"
      ]
     },
     "execution_count": 7,
     "metadata": {},
     "output_type": "execute_result"
    }
   ],
   "source": [
    "erk.macaulay_duration(erk.bond_cash_flows(15, 1000, .05, 2), 0.05/2)/2"
   ]
  },
  {
   "cell_type": "code",
   "execution_count": 8,
   "metadata": {},
   "outputs": [
    {
     "data": {
      "text/plain": [
       "6.750917852744651"
      ]
     },
     "execution_count": 8,
     "metadata": {},
     "output_type": "execute_result"
    }
   ],
   "source": [
    "flow = [0,0,100000,0,200000,0,0,0,0,300000]\n",
    "ind = np.arange(1, 11)\n",
    "cash_flows = pd.Series(data=flow, index=ind)\n",
    "erk.macaulay_duration(cash_flows,0.05)"
   ]
  },
  {
   "cell_type": "code",
   "execution_count": 12,
   "metadata": {},
   "outputs": [
    {
     "name": "stdout",
     "output_type": "stream",
     "text": [
      "0.6257830075060314\n"
     ]
    }
   ],
   "source": [
    "b1_cf = erk.bond_cash_flows(15, 1000, .05, 2)\n",
    "b2_cf = erk.bond_cash_flows(5, 1000, .06, 4)\n",
    "discount_rate = 0.05\n",
    "d_t = erk.macaulay_duration(cash_flows, discount_rate)\n",
    "d_s = erk.macaulay_duration(b1_cf, discount_rate/2)/2\n",
    "d_l = erk.macaulay_duration(b2_cf, discount_rate/4)/4\n",
    "b1_r= (d_l - d_t)/(d_l - d_s)\n",
    "b2_r = 1-b1_r\n",
    "print(b2_r)"
   ]
  },
  {
   "cell_type": "code",
   "execution_count": 14,
   "metadata": {},
   "outputs": [
    {
     "name": "stdout",
     "output_type": "stream",
     "text": [
      "0.5774465770256697\n"
     ]
    }
   ],
   "source": [
    "b3_cf = erk.bond_cash_flows(10, 1000, 0, 1)\n",
    "b2_cf = erk.bond_cash_flows(5, 1000, .06, 4)\n",
    "discount_rate = 0.05\n",
    "d_t = erk.macaulay_duration(cash_flows, discount_rate)\n",
    "d_s = erk.macaulay_duration(b2_cf, discount_rate/4)/4\n",
    "d_l = erk.macaulay_duration(b3_cf, discount_rate)\n",
    "b2_r= (d_l - d_t)/(d_l - d_s)\n",
    "\n",
    "print(b2_r)"
   ]
  }
 ],
 "metadata": {
  "kernelspec": {
   "display_name": "Python 3",
   "language": "python",
   "name": "python3"
  },
  "language_info": {
   "codemirror_mode": {
    "name": "ipython",
    "version": 3
   },
   "file_extension": ".py",
   "mimetype": "text/x-python",
   "name": "python",
   "nbconvert_exporter": "python",
   "pygments_lexer": "ipython3",
   "version": "3.7.6"
  }
 },
 "nbformat": 4,
 "nbformat_minor": 4
}
